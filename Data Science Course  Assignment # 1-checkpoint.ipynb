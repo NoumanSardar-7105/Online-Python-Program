{
 "cells": [
  {
   "cell_type": "code",
   "execution_count": 2,
   "id": "1e43ca31",
   "metadata": {},
   "outputs": [
    {
     "name": "stdout",
     "output_type": "stream",
     "text": [
      "Twinkle,twinkle,little star,\n",
      "\tHow I wonder what you are!\n",
      "\t\tUp above the world so high, \n",
      "\t\tLike a diamond in the sky.\n",
      "Twinkle,twinkle,little star,\n",
      "\tHow I wonder what you are\n"
     ]
    }
   ],
   "source": [
    "Q#01\n",
    "\n",
    "print(\"Twinkle,twinkle,little star,\\n\\tHow I wonder what you are!\\n\\t\\tUp above the world so high, \\n\\t\\tLike a diamond in the sky.\\nTwinkle,twinkle,little star,\\n\\tHow I wonder what you are\")"
   ]
  },
  {
   "cell_type": "code",
   "execution_count": 3,
   "id": "d3a96a70",
   "metadata": {},
   "outputs": [
    {
     "name": "stdout",
     "output_type": "stream",
     "text": [
      "3.9.7 (default, Sep 16 2021, 16:59:28) [MSC v.1916 64 bit (AMD64)]\n"
     ]
    }
   ],
   "source": [
    "Q#02\n",
    "import sys\n",
    "print(sys.version)"
   ]
  },
  {
   "cell_type": "code",
   "execution_count": 4,
   "id": "fdad2a0d",
   "metadata": {},
   "outputs": [
    {
     "name": "stdout",
     "output_type": "stream",
     "text": [
      "current date and time : \n",
      "2021-12-31 23:10:51\n"
     ]
    }
   ],
   "source": [
    "Q#03\n",
    "\n",
    "import datetime\n",
    "now=datetime.datetime.now()\n",
    "print(\"current date and time : \")\n",
    "print (now.strftime (\"%Y-%m-%d %H:%M:%S\"))"
   ]
  },
  {
   "cell_type": "code",
   "execution_count": 16,
   "id": "e163a624",
   "metadata": {},
   "outputs": [
    {
     "name": "stdout",
     "output_type": "stream",
     "text": [
      "Enter radius of circle : 10\n",
      "Area of the circle is: 314.1592653589793\n"
     ]
    }
   ],
   "source": [
    "Q#04\n",
    "\n",
    "from math import pi\n",
    "\n",
    "r=float (input (\"Enter radius of circle : \" ))\n",
    "\n",
    "print (\"Area of the circle is: \" + str(pi *r**2))"
   ]
  },
  {
   "cell_type": "code",
   "execution_count": 47,
   "id": "76170ab3",
   "metadata": {},
   "outputs": [
    {
     "name": "stdout",
     "output_type": "stream",
     "text": [
      "Nouman :Sardar\n",
      "Sardar Nouman\n"
     ]
    }
   ],
   "source": [
    "Q#05\n",
    "\n",
    "firstname= input(\"Nouman :\")\n",
    "\n",
    "lastname= input(\"Sardar\")\n",
    "\n",
    "print= (firstname+lastname)"
   ]
  },
  {
   "cell_type": "code",
   "execution_count": 2,
   "id": "594f9a12",
   "metadata": {},
   "outputs": [
    {
     "name": "stdout",
     "output_type": "stream",
     "text": [
      "Enter first number: 2000\n",
      "Enter second number: 22\n",
      "The sum of 2000 and 22 is 2022.0\n"
     ]
    }
   ],
   "source": [
    "Q#6\n",
    "\n",
    "#Two input from user and print them addition.\n",
    "\n",
    "num1 = input('Enter first number: ')\n",
    "num2 = input('Enter second number: ')\n",
    "sum = float(num1) + float(num2)\n",
    "\n",
    "print('The sum of {0} and {1} is {2}'. format(num1, num2, sum))\n"
   ]
  }
 ],
 "metadata": {
  "kernelspec": {
   "display_name": "Python 3 (ipykernel)",
   "language": "python",
   "name": "python3"
  },
  "language_info": {
   "codemirror_mode": {
    "name": "ipython",
    "version": 3
   },
   "file_extension": ".py",
   "mimetype": "text/x-python",
   "name": "python",
   "nbconvert_exporter": "python",
   "pygments_lexer": "ipython3",
   "version": "3.9.7"
  }
 },
 "nbformat": 4,
 "nbformat_minor": 5
}
